{
 "cells": [
  {
   "cell_type": "code",
   "execution_count": 1,
   "id": "6af42b5f",
   "metadata": {},
   "outputs": [
    {
     "name": "stdout",
     "output_type": "stream",
     "text": [
      "Hello world\n"
     ]
    }
   ],
   "source": [
    "print(\"Hello world\")"
   ]
  },
  {
   "cell_type": "markdown",
   "id": "610ca2ff",
   "metadata": {},
   "source": [
    "# Write a Python script to concatenate following dictionaries to create a new one. Go to the editor\n",
    "\n",
    "Sample Dictionary :\n",
    "dic1={1:10, 2:20}\n",
    "dic2={3:30, 4:40}\n",
    "dic3={5:50,6:60}\n",
    "Expected Result : {1: 10, 2: 20, 3: 30, 4: 40, 5: 50, 6: 60}"
   ]
  },
  {
   "cell_type": "code",
   "execution_count": 19,
   "id": "fd961d63",
   "metadata": {},
   "outputs": [
    {
     "name": "stdout",
     "output_type": "stream",
     "text": [
      "{1: 10, 2: 20, 3: 30, 4: 40, 5: 50, 6: 60}\n"
     ]
    }
   ],
   "source": [
    "dic1={1:10, 2:20}\n",
    "dic2={3:30, 4:40}\n",
    "dic3={5:50,6:60} \n",
    "\n",
    "N = max(len(dic1),len(dic2),len(dic3))\n",
    "dic = {}\n",
    "\n",
    "for i in (dic1,dic2,dic3):\n",
    "    dic.update(i)\n",
    "   \n",
    "\n",
    "print(dic)"
   ]
  },
  {
   "cell_type": "code",
   "execution_count": 23,
   "id": "d09d6da4",
   "metadata": {},
   "outputs": [
    {
     "data": {
      "text/plain": [
       "{1: 12}"
      ]
     },
     "execution_count": 23,
     "metadata": {},
     "output_type": "execute_result"
    }
   ],
   "source": [
    "d = {}\n",
    "d.update({1:12})\n",
    "d"
   ]
  },
  {
   "cell_type": "markdown",
   "id": "63f121f6",
   "metadata": {},
   "source": [
    "# Write a Python script to print a dictionary where the keys are numbers between 1 and 15 (both included) and the values are square of keys. Go to the editor\n",
    "Sample Dictionary\n",
    "{1: 1, 2: 4, 3: 9, 4: 16, 5: 25, 6: 36, 7: 49, 8: 64, 9: 81, 10: 100, 11: 121, 12: 144, 13: 169, 14: 196, 15: 225}"
   ]
  },
  {
   "cell_type": "code",
   "execution_count": 40,
   "id": "1af5af63",
   "metadata": {},
   "outputs": [
    {
     "data": {
      "text/plain": [
       "{1: 1,\n",
       " 2: 4,\n",
       " 3: 9,\n",
       " 4: 16,\n",
       " 5: 25,\n",
       " 6: 36,\n",
       " 7: 49,\n",
       " 8: 64,\n",
       " 9: 81,\n",
       " 10: 100,\n",
       " 11: 121,\n",
       " 12: 144,\n",
       " 13: 169,\n",
       " 14: 196,\n",
       " 15: 225}"
      ]
     },
     "execution_count": 40,
     "metadata": {},
     "output_type": "execute_result"
    }
   ],
   "source": [
    "dict1 = {}\n",
    "\n",
    "\n",
    "for i in range(1,16):\n",
    "    dict1[i] = i**2\n",
    "dict1"
   ]
  },
  {
   "cell_type": "markdown",
   "id": "566b39ea",
   "metadata": {},
   "source": [
    "# sum all the values in a dict"
   ]
  },
  {
   "cell_type": "code",
   "execution_count": 41,
   "id": "04b4a3d6",
   "metadata": {},
   "outputs": [
    {
     "name": "stdout",
     "output_type": "stream",
     "text": [
      "1240\n"
     ]
    }
   ],
   "source": [
    "sumint = 0\n",
    "for i in dict1:\n",
    "    sumint += dict1[i]\n",
    "print(sumint)"
   ]
  },
  {
   "cell_type": "code",
   "execution_count": 42,
   "id": "ecfcff36",
   "metadata": {},
   "outputs": [
    {
     "name": "stdout",
     "output_type": "stream",
     "text": [
      "{1: 1, 2: 4, 3: 9, 5: 25, 6: 36, 7: 49, 8: 64, 9: 81, 10: 100, 11: 121, 12: 144, 13: 169, 14: 196, 15: 225}\n"
     ]
    }
   ],
   "source": [
    "try:\n",
    "    for i in dict1:\n",
    "        if i == 4:\n",
    "            del dict1[i]\n",
    "except RuntimeError:\n",
    "    pass\n",
    "print(dict1)"
   ]
  },
  {
   "cell_type": "markdown",
   "id": "da3610e4",
   "metadata": {},
   "source": [
    "# maximum and minimum value in there dictionary"
   ]
  },
  {
   "cell_type": "code",
   "execution_count": 44,
   "id": "485351de",
   "metadata": {},
   "outputs": [
    {
     "name": "stdout",
     "output_type": "stream",
     "text": [
      "1 225\n"
     ]
    }
   ],
   "source": [
    "mini = 1324324324\n",
    "maxi = -213213124\n",
    "for i  in dict1:\n",
    "    if dict1[i]>maxi:\n",
    "        maxi = dict1[i]\n",
    "    if dict1[i]<mini:\n",
    "        mini = dict1[i]\n",
    "        \n",
    "        \n",
    "print(mini,maxi)"
   ]
  },
  {
   "cell_type": "markdown",
   "id": "756e33e6",
   "metadata": {},
   "source": [
    "# Write a Python program to combine two dictionary adding values for common keys. Go to the editor\n",
    "d1 = {'a': 100, 'b': 200, 'c':300}\n",
    "d2 = {'a': 300, 'b': 200, 'd':400}\n",
    "Sample output: Counter({'a': 400, 'b': 400, 'd': 400, 'c': 300})"
   ]
  },
  {
   "cell_type": "code",
   "execution_count": 50,
   "id": "f7c618c3",
   "metadata": {},
   "outputs": [
    {
     "name": "stdout",
     "output_type": "stream",
     "text": [
      "{'a': 400, 'b': 400, 'c': 300, 'd': 400}\n"
     ]
    }
   ],
   "source": [
    "d1 = {'a': 100, 'b': 200, 'c':300} \n",
    "d2 = {'a': 300, 'b': 200, 'd':400}\n",
    "\n",
    "d = {}\n",
    "\n",
    "for i in d1:\n",
    "    d[i]= d1[i]\n",
    "\n",
    "for i in d2:\n",
    "    if i in d1:\n",
    "        d[i]+=d2[i]\n",
    "    else:\n",
    "        d[i] = d2[i]\n",
    "        \n",
    "print(d)"
   ]
  },
  {
   "cell_type": "markdown",
   "id": "0a3ccb99",
   "metadata": {},
   "source": [
    "# Write a Python program to print all unique values in a dictionary. Go to the editor\n",
    "Sample Data : [{\"V\":\"S001\"}, {\"V\": \"S002\"}, {\"VI\": \"S001\"}, {\"VI\": \"S005\"}, {\"VII\":\"S005\"}, {\"V\":\"S009\"},{\"VIII\":\"S007\"}]\n",
    "Expected Output : Unique Values: {'S005', 'S002', 'S007', 'S001', 'S009'}"
   ]
  },
  {
   "cell_type": "code",
   "execution_count": 56,
   "id": "1116e35f",
   "metadata": {},
   "outputs": [
    {
     "name": "stdout",
     "output_type": "stream",
     "text": [
      "['S001', 'S002', 'S005', 'S009', 'S007']\n"
     ]
    }
   ],
   "source": [
    "Data = [{\"V\":\"S001\"}, {\"V\": \"S002\"}, {\"VI\": \"S001\"}, {\"VI\": \"S005\"}, {\"VII\":\"S005\"}, {\"V\":\"S009\"},{\"VIII\":\"S007\"}]\n",
    "\n",
    "\n",
    "l1 = []\n",
    "for i in Data:\n",
    "    for j in i:\n",
    "        if i[j] not in l1:\n",
    "            l1.append(i[j])\n",
    "print(l1)"
   ]
  },
  {
   "cell_type": "markdown",
   "id": "685e8d20",
   "metadata": {},
   "source": [
    "# all combinations of 2 lists"
   ]
  },
  {
   "cell_type": "code",
   "execution_count": 58,
   "id": "942a2703",
   "metadata": {},
   "outputs": [
    {
     "name": "stdout",
     "output_type": "stream",
     "text": [
      "['ac', 'ad', 'bc', 'bd']\n"
     ]
    }
   ],
   "source": [
    "s = ['a','b']\n",
    "s2 = ['c','d']\n",
    "\n",
    "d = []\n",
    "for i in s:\n",
    "    for j in s2:\n",
    "        d.append(i+j)\n",
    "print(d)"
   ]
  },
  {
   "cell_type": "markdown",
   "id": "6550a065",
   "metadata": {},
   "source": [
    "# highest 3 values of different keys"
   ]
  },
  {
   "cell_type": "code",
   "execution_count": 59,
   "id": "4b2e80bd",
   "metadata": {},
   "outputs": [
    {
     "data": {
      "text/plain": [
       "{1: 1,\n",
       " 2: 4,\n",
       " 3: 9,\n",
       " 4: 16,\n",
       " 5: 25,\n",
       " 6: 36,\n",
       " 7: 49,\n",
       " 8: 64,\n",
       " 9: 81,\n",
       " 10: 100,\n",
       " 11: 121,\n",
       " 12: 144,\n",
       " 13: 169,\n",
       " 14: 196,\n",
       " 15: 225}"
      ]
     },
     "execution_count": 59,
     "metadata": {},
     "output_type": "execute_result"
    }
   ],
   "source": [
    "dict1 = {}\n",
    "\n",
    "\n",
    "for i in range(1,16):\n",
    "    dict1[i] = i**2\n",
    "dict1"
   ]
  },
  {
   "cell_type": "markdown",
   "id": "12d571ee",
   "metadata": {},
   "source": [
    "# count the frequency  of each charector in string "
   ]
  },
  {
   "cell_type": "code",
   "execution_count": 62,
   "id": "8449c0bf",
   "metadata": {},
   "outputs": [],
   "source": [
    "n = \"w3schools\"\n",
    "\n",
    "d = {}\n",
    "for i in range(len(n)):\n",
    "    if n[i] in d:\n",
    "        d[n[i]] +=1\n",
    "    else:\n",
    "        d[n[i]] = 1"
   ]
  },
  {
   "cell_type": "code",
   "execution_count": 63,
   "id": "462e427d",
   "metadata": {},
   "outputs": [
    {
     "data": {
      "text/plain": [
       "{'w': 1, '3': 1, 's': 2, 'c': 1, 'h': 1, 'o': 2, 'l': 1}"
      ]
     },
     "execution_count": 63,
     "metadata": {},
     "output_type": "execute_result"
    }
   ],
   "source": [
    "d"
   ]
  },
  {
   "cell_type": "code",
   "execution_count": null,
   "id": "7287264f",
   "metadata": {},
   "outputs": [],
   "source": []
  }
 ],
 "metadata": {
  "kernelspec": {
   "display_name": "Python 3 (ipykernel)",
   "language": "python",
   "name": "python3"
  },
  "language_info": {
   "codemirror_mode": {
    "name": "ipython",
    "version": 3
   },
   "file_extension": ".py",
   "mimetype": "text/x-python",
   "name": "python",
   "nbconvert_exporter": "python",
   "pygments_lexer": "ipython3",
   "version": "3.9.12"
  }
 },
 "nbformat": 4,
 "nbformat_minor": 5
}
